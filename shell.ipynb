{
 "cells": [
  {
   "cell_type": "code",
   "execution_count": 2,
   "metadata": {},
   "outputs": [
    {
     "name": "stdout",
     "output_type": "stream",
     "text": [
      "Hello, World!\n"
     ]
    }
   ],
   "source": [
    "!echo \"Hello, World!\"\n"
   ]
  },
  {
   "cell_type": "code",
   "execution_count": 6,
   "metadata": {},
   "outputs": [
    {
     "name": "stdout",
     "output_type": "stream",
     "text": [
      "\n",
      "The item being checked: /home/dopadm/abc.txt\n",
      "\n",
      "The item, /home/dopadm/abc.txt, does exist.\n",
      "But is it a file?\n",
      "\n",
      "Yes, /home/dopadm/abc.txt is a file.\n"
     ]
    }
   ],
   "source": [
    "%%bash\n",
    "# Check if either a directory or file exists\n",
    "\n",
    "item_name=$HOME/abc.txt\n",
    "echo\n",
    "echo \"The item being checked: $item_name\"\n",
    "echo\n",
    "\n",
    "if [ -e $item_name ]\n",
    "then  # Item does exist\n",
    "  echo \"The item, $item_name, does exist.\"\n",
    "  echo \"But is it a file?\"\n",
    "  echo\n",
    "  if [ -f $item_name ]\n",
    "  then # Item is a file\n",
    "      echo \"Yes, $item_name is a file.\"\n",
    "  else # Item is not a file\n",
    "      echo \"No, $item_name is not a file.\"\n",
    "  fi\n",
    "else   # Item does not exist\n",
    "  echo \"The item, $item_name, does not exist.\"\n",
    "  echo \"Nothing to update\"\n",
    "fi\n"
   ]
  },
  {
   "cell_type": "code",
   "execution_count": 8,
   "metadata": {},
   "outputs": [
    {
     "name": "stdout",
     "output_type": "stream",
     "text": [
      "Sorry, I am unable to read the /etc/shadow file\n"
     ]
    }
   ],
   "source": [
    "%%bash\n",
    " # testing if you can read a file\n",
    " pwfile=/etc/shadow\n",
    " #\n",
    " # first, test if the file exists, and is a file\n",
    " if [ -f $pwfile ]\n",
    " then\n",
    "   # now test if you can read it\n",
    "   if [ -r $pwfile ]\n",
    "\n",
    "   then\n",
    "      tail $pwfile\n",
    "   else\n",
    "      echo \"Sorry, I am unable to read the $pwfile file\"\n",
    "   fi\n",
    " else\n",
    "   echo \"Sorry, the file $file does not exist\"\n",
    " fi"
   ]
  },
  {
   "cell_type": "code",
   "execution_count": 13,
   "metadata": {},
   "outputs": [
    {
     "name": "stdout",
     "output_type": "stream",
     "text": [
      "The /home/dopadm/abc.txt file exists and has data in it.\n",
      "9\n",
      "8\n",
      "4\n",
      "5\n",
      "6\n",
      "3\n",
      "2\n",
      "7\n",
      "1\n",
      "0\n",
      "\n",
      "Will not remove this file.\n"
     ]
    }
   ],
   "source": [
    "%%bash\n",
    " #!/bin/bash\n",
    " # Testing if a file is empty\n",
    " #\n",
    " file_name=$HOME/abc.txt\n",
    " #\n",
    " if [ -f $file_name ]\n",
    " then\n",
    "   if [ -s $file_name ]\n",
    "   then\n",
    "      echo \"The $file_name file exists and has data in it.\"\n",
    "      cat $file_name\n",
    " #\n",
    "   else\n",
    "      echo \"The $file_name file exists, but is empty.\"\n",
    "      echo \"Deleting empty file...\"\n",
    "      rm $file_name\n",
    "   fi\n",
    " else\n",
    "   echo \"File, $file_name, does not exist.\"\n",
    " fi"
   ]
  },
  {
   "cell_type": "code",
   "execution_count": 20,
   "metadata": {},
   "outputs": [
    {
     "name": "stdout",
     "output_type": "stream",
     "text": [
      "\n",
      "The item being checked: /home/dopadm/abc.txt\n",
      "\n",
      "Yes, /home/dopadm/abc.txt is a file.\n",
      "But is it writable?\n",
      "\n",
      "Writing current time to /home/dopadm/abc.txt\n",
      "-rw-r--r-- 1 dopadm dopadm 36 Feb  7 15:01 abc.txt\n"
     ]
    }
   ],
   "source": [
    "%%bash\n",
    "item_name=$HOME/abc.txt\n",
    "echo\n",
    "echo \"The item being checked: $item_name\"\n",
    "echo\n",
    "\n",
    "if [ -f \"$item_name\" ]; then\n",
    "    echo \"Yes, $item_name is a file.\"\n",
    "    echo \"But is it writable?\"\n",
    "    echo\n",
    "\n",
    "    if [ -w \"$item_name\" ]; then\n",
    "        # Item is writable\n",
    "        echo \"Writing current time to $item_name\"\n",
    "        date +%H%M >> \"$item_name\"\n",
    "    else\n",
    "        # Item is not writable\n",
    "        echo \"Unable to write to $item_name\"\n",
    "    fi\n",
    "else\n",
    "    # Item is not a file\n",
    "    echo \"No, $item_name is not a file.\"\n",
    "fi\n",
    "ls -lrt abc.txt\n"
   ]
  },
  {
   "cell_type": "code",
   "execution_count": 23,
   "metadata": {},
   "outputs": [
    {
     "name": "stdout",
     "output_type": "stream",
     "text": [
      "the sqaure of 10 is 100\n"
     ]
    }
   ],
   "source": [
    "%%bash\n",
    "val=10\n",
    "if (($val ** 2 > 90))\n",
    "then \n",
    "   ((val2=$val**2))\n",
    "   echo \"the sqaure of $val is $val2\"\n",
    "fi"
   ]
  },
  {
   "cell_type": "code",
   "execution_count": 26,
   "metadata": {},
   "outputs": [
    {
     "name": "stdout",
     "output_type": "stream",
     "text": [
      "Hello dopadm\n"
     ]
    }
   ],
   "source": [
    "%%bash\n",
    "if [[ $USER == * ]]\n",
    " then\n",
    "   echo \"Hello $USER\"\n",
    " else\n",
    "   echo \"Sorry, I do not know you\"\n",
    " fi"
   ]
  },
  {
   "cell_type": "code",
   "execution_count": 28,
   "metadata": {},
   "outputs": [
    {
     "name": "stdout",
     "output_type": "stream",
     "text": [
      "Welcome dopadm\n",
      "Please enjoy your visit\n"
     ]
    }
   ],
   "source": [
    "%%bash\n",
    "if [ $USER = \"dopadm\" ]\n",
    " then\n",
    "   echo \"Welcome $USER\"\n",
    "   echo \"Please enjoy your visit\"\n",
    " elif [ $USER = \"barbara\" ]\n",
    " then\n",
    "   echo \"Welcome $USER\"\n",
    "   echo \"Please enjoy your visit\"\n",
    " elif [ $USER = \"testing\" ]\n",
    " then\n",
    "   echo \"Special testing account\"\n",
    " elif [ $USER = \"jessica\" ]\n",
    "then\n",
    "   echo \"Do not forget to logout when you're done\"\n",
    " else\n",
    "   echo \"Sorry, you are not allowed here\"\n",
    " fi"
   ]
  },
  {
   "cell_type": "code",
   "execution_count": 29,
   "metadata": {},
   "outputs": [
    {
     "name": "stdout",
     "output_type": "stream",
     "text": [
      "The next state is Alabama\n",
      "The next state is Alaska\n",
      "The next state is Arizona\n",
      "The next state is Arkansas\n",
      "The next state is California\n",
      "The next state is Colorado\n"
     ]
    }
   ],
   "source": [
    "%%bash \n",
    "for test in Alabama Alaska Arizona Arkansas California Colorado\n",
    " do\n",
    "    echo The next state is $test\n",
    " done"
   ]
  },
  {
   "cell_type": "code",
   "execution_count": 30,
   "metadata": {},
   "outputs": [
    {
     "name": "stdout",
     "output_type": "stream",
     "text": [
      "The next state is Alabama\n",
      "The next state is Alaska\n",
      "The next state is Arizona\n",
      "The next state is Arkansas\n",
      "The next state is California\n",
      "The next state is Colorado\n",
      "The last state we visited was Colorado\n",
      "Wait, now we're visiting Connecticut\n"
     ]
    }
   ],
   "source": [
    "%%bash\n",
    "for test in Alabama Alaska Arizona Arkansas California Colorado\n",
    " do\n",
    "    echo \"The next state is $test\"\n",
    " done\n",
    " echo \"The last state we visited was $test\"\n",
    " test=Connecticut\n",
    " echo \"Wait, now we're visiting $test\""
   ]
  },
  {
   "cell_type": "code",
   "execution_count": 35,
   "metadata": {},
   "outputs": [
    {
     "name": "stdout",
     "output_type": "stream",
     "text": [
      "word:I\n",
      "word:dont know if thisll\n",
      "word:work\n"
     ]
    }
   ],
   "source": [
    "%%bash\n",
    "for test in I don't know if this'll work\n",
    " do\n",
    "    echo \"word:$test\"\n",
    " done"
   ]
  },
  {
   "cell_type": "code",
   "execution_count": 36,
   "metadata": {},
   "outputs": [
    {
     "name": "stdout",
     "output_type": "stream",
     "text": [
      "work:I\n",
      "work:don't\n",
      "work:know\n",
      "work:if\n",
      "work:This'll\n",
      "work:work\n"
     ]
    }
   ],
   "source": [
    "%%bash\n",
    "for test in I don\\'t know  if \"This'll\" work\n",
    "do \n",
    "   echo \"work:$test\"\n",
    "done"
   ]
  },
  {
   "cell_type": "code",
   "execution_count": 38,
   "metadata": {},
   "outputs": [
    {
     "name": "stdout",
     "output_type": "stream",
     "text": [
      "Now going to Nevada\n",
      "Now going to New\n",
      "Now going to Hampshire\n",
      "Now going to New\n",
      "Now going to Mexico\n",
      "Now going to New\n",
      "Now going to York\n",
      "Now going to North\n",
      "Now going to Carolina\n"
     ]
    }
   ],
   "source": [
    "%%bash\n",
    "for test in Nevada New Hampshire New Mexico New York North Carolina\n",
    " do\n",
    "    echo \"Now going to $test\"\n",
    " done"
   ]
  },
  {
   "cell_type": "code",
   "execution_count": 39,
   "metadata": {},
   "outputs": [
    {
     "name": "stdout",
     "output_type": "stream",
     "text": [
      "Now going to Nevada\n",
      "Now going to New Hampshire\n",
      "Now going to New Mexico\n",
      "Now going to New York\n"
     ]
    }
   ],
   "source": [
    "%%bash\n",
    "for test in Nevada \"New Hampshire\" \"New Mexico\" \"New York\"\n",
    " do\n",
    "    echo \"Now going to $test\"\n",
    " done"
   ]
  },
  {
   "cell_type": "code",
   "execution_count": 48,
   "metadata": {},
   "outputs": [
    {
     "name": "stdout",
     "output_type": "stream",
     "text": [
      "Alabama Alaska Arizona Arkansas Colorado Connecticut\n",
      "Have you ever visited Alabama?\n",
      "Have you ever visited Alaska?\n",
      "Have you ever visited Arizona?\n",
      "Have you ever visited Arkansas?\n",
      "Have you ever visited Colorado?\n",
      "Have you ever visited Connecticut?\n"
     ]
    }
   ],
   "source": [
    "%%bash\n",
    "list=\"Alabama Alaska Arizona Arkansas Colorado\"\n",
    "list=$list\" Connecticut\"\n",
    "echo $list\n",
    " for state in $list\n",
    " do\n",
    "    echo \"Have you ever visited $state?\"\n",
    " done"
   ]
  },
  {
   "cell_type": "code",
   "execution_count": 55,
   "metadata": {},
   "outputs": [
    {
     "name": "stdout",
     "output_type": "stream",
     "text": [
      "/home/dopadm/practice/1.py is a file\n",
      "/home/dopadm/practice/Terraform is a directory\n",
      "/home/dopadm/practice/a.txt is a file\n",
      "/home/dopadm/practice/abd.txt is a file\n",
      "/home/dopadm/practice/anand.py is a file\n",
      "/home/dopadm/practice/anand.txt is a file\n",
      "/home/dopadm/practice/arusinfo is a directory\n",
      "/home/dopadm/practice/ass.py is a file\n",
      "/home/dopadm/practice/b.txt is a file\n",
      "/home/dopadm/practice/bascic1.sh is a file\n",
      "/home/dopadm/practice/bin.sh is a file\n",
      "/home/dopadm/practice/c.txt is a file\n",
      "/home/dopadm/practice/cat.txt is a file\n",
      "/home/dopadm/practice/check_anagrams.py is a file\n",
      "/home/dopadm/practice/comments.sh is a file\n",
      "/home/dopadm/practice/error1.txt is a file\n",
      "/home/dopadm/practice/first.py is a file\n",
      "/home/dopadm/practice/first.sh is a file\n",
      "/home/dopadm/practice/fou.sh is a file\n",
      "/home/dopadm/practice/four.sh is a file\n",
      "/home/dopadm/practice/hello.txt is a file\n",
      "/home/dopadm/practice/hello1.txt is a file\n",
      "/home/dopadm/practice/se.sh is a file\n",
      "/home/dopadm/practice/second.py is a file\n",
      "/home/dopadm/practice/second.sh is a file\n",
      "/home/dopadm/practice/sesu.py is a file\n",
      "/home/dopadm/practice/suraj.txt is a file\n"
     ]
    },
    {
     "name": "stdout",
     "output_type": "stream",
     "text": [
      "/home/dopadm/practice/thi.sh is a file\n",
      "/home/dopadm/practice/third.py is a file\n",
      "/home/dopadm/practice/thrid.sh is a file\n",
      "/home/dopadm/practice/variable.sh is a file\n"
     ]
    }
   ],
   "source": [
    "%%bash\n",
    " for file in /home/dopadm/practice/*\n",
    " do\n",
    "    if [ -d \"$file\" ]\n",
    "    then\n",
    "       echo \"$file is a directory\"\n",
    "    elif [ -f \"$file\" ]\n",
    "    then\n",
    "       echo \"$file is a file\"\n",
    "    fi\n",
    " done"
   ]
  },
  {
   "cell_type": "code",
   "execution_count": 58,
   "metadata": {},
   "outputs": [
    {
     "name": "stdout",
     "output_type": "stream",
     "text": [
      "/home/dopadm/.bash_history is a file\n",
      "/home/dopadm/.bash_logout is a file\n",
      "/home/dopadm/.bashrc is a file\n",
      "/home/dopadm/anand doesn't exist\n"
     ]
    }
   ],
   "source": [
    "%%bash\n",
    "for file in /home/dopadm/.b* /home/dopadm/anand\n",
    " do\n",
    "    if [ -d \"$file\" ]\n",
    "    then\n",
    "       echo \"$file is a directory\"\n",
    "    elif [ -f \"$file\" ]\n",
    "    then\n",
    "       echo \"$file is a file\"\n",
    "    else\n",
    "      echo \"$file doesn't exist\"\n",
    "    fi\n",
    " done"
   ]
  },
  {
   "cell_type": "code",
   "execution_count": 59,
   "metadata": {},
   "outputs": [
    {
     "name": "stdout",
     "output_type": "stream",
     "text": [
      "the next number is 1\n",
      "the next number is 2\n",
      "the next number is 3\n",
      "the next number is 4\n",
      "the next number is 5\n",
      "the next number is 6\n",
      "the next number is 7\n",
      "the next number is 8\n",
      "the next number is 9\n",
      "the next number is 10\n"
     ]
    }
   ],
   "source": [
    "%%bash \n",
    "for (( i=1 ; i<=10 ;i++))\n",
    "do\n",
    "  echo \"the next number is $i\"\n",
    "done"
   ]
  },
  {
   "cell_type": "code",
   "execution_count": 62,
   "metadata": {},
   "outputs": [
    {
     "name": "stdout",
     "output_type": "stream",
     "text": [
      "1 -10\n",
      "2 -9\n",
      "3 -8\n",
      "4 -7\n",
      "5 -6\n",
      "6 -5\n",
      "7 -4\n",
      "8 -3\n",
      "9 -2\n",
      "10 -1\n"
     ]
    }
   ],
   "source": [
    "%%bash \n",
    "for ((a=1,b=10; a<=10;a++,b--))\n",
    "do \n",
    "  echo \"$a -$b\"\n",
    "done"
   ]
  },
  {
   "cell_type": "code",
   "execution_count": 81,
   "metadata": {},
   "outputs": [
    {
     "name": "stdout",
     "output_type": "stream",
     "text": [
      "10\n",
      "9\n",
      "8\n",
      "7\n",
      "6\n",
      "5\n",
      "4\n",
      "3\n",
      "2\n",
      "1\n"
     ]
    }
   ],
   "source": [
    "%%bash\n",
    "var=10\n",
    "while [ $var -gt 0 ]\n",
    "do \n",
    "  echo $var\n",
    "  var=$[ $var - 1]\n",
    "done"
   ]
  },
  {
   "cell_type": "code",
   "execution_count": 1,
   "metadata": {},
   "outputs": [
    {
     "name": "stdout",
     "output_type": "stream",
     "text": [
      "10\n",
      "9\n",
      "8\n",
      "7\n",
      "6\n",
      "5\n",
      "4\n",
      "3\n",
      "2\n",
      "1\n"
     ]
    }
   ],
   "source": [
    "%%bash\n",
    "var1=10\n",
    " while [ $var1 -gt 0 ]\n",
    " do\n",
    "    echo $var1\n",
    "    var1=$[ $var1 - 1 ]\n",
    " done"
   ]
  },
  {
   "cell_type": "code",
   "execution_count": 3,
   "metadata": {},
   "outputs": [
    {
     "name": "stdout",
     "output_type": "stream",
     "text": [
      "10\n",
      "This is inside the loop\n",
      "9\n",
      "This is inside the loop\n",
      "8\n",
      "This is inside the loop\n",
      "7\n",
      "This is inside the loop\n",
      "6\n",
      "This is inside the loop\n",
      "5\n",
      "This is inside the loop\n",
      "4\n",
      "This is inside the loop\n",
      "3\n",
      "This is inside the loop\n",
      "2\n",
      "This is inside the loop\n",
      "1\n",
      "This is inside the loop\n",
      "0\n",
      "This is inside the loop\n",
      "-1\n"
     ]
    }
   ],
   "source": [
    "%%bash \n",
    "var1=10\n",
    "while echo $var1\n",
    "    [ $var1 -ge 0 ]\n",
    " do\n",
    "    echo \"This is inside the loop\"\n",
    "    var1=$[ $var1 - 1 ]\n",
    " done"
   ]
  },
  {
   "cell_type": "code",
   "execution_count": 5,
   "metadata": {},
   "outputs": [
    {
     "name": "stdout",
     "output_type": "stream",
     "text": [
      "100\n",
      "75\n",
      "50\n",
      "25\n"
     ]
    }
   ],
   "source": [
    "%%bash\n",
    "var1=100\n",
    " until [ $var1 -eq 0 ]\n",
    " do\n",
    "    echo $var1\n",
    "    var1=$[ $var1 - 25 ]\n",
    " done"
   ]
  },
  {
   "cell_type": "code",
   "execution_count": 7,
   "metadata": {},
   "outputs": [
    {
     "name": "stdout",
     "output_type": "stream",
     "text": [
      "100\n",
      "75\n",
      "50\n",
      "25\n"
     ]
    }
   ],
   "source": [
    "%%bash\n",
    "var1=100\n",
    " until [ $var1 -eq 0 ]\n",
    " do \n",
    "    echo $var1\n",
    "    var1=$[ $var1 - 25 ]\n",
    "done"
   ]
  },
  {
   "cell_type": "code",
   "execution_count": 8,
   "metadata": {},
   "outputs": [
    {
     "name": "stdout",
     "output_type": "stream",
     "text": [
      "Starting loop 1:\n",
      "Inside loop :1\n",
      "Inside loop :2\n",
      "Inside loop :3\n",
      "Starting loop 2:\n",
      "Inside loop :1\n",
      "Inside loop :2\n",
      "Inside loop :3\n",
      "Starting loop 3:\n",
      "Inside loop :1\n",
      "Inside loop :2\n",
      "Inside loop :3\n"
     ]
    }
   ],
   "source": [
    "%%bash\n",
    "for(( a=1 ;a<=3; a++))\n",
    "do \n",
    "  echo \"Starting loop $a:\"\n",
    "  for((b=1;b<=3;b++))\n",
    "  do\n",
    "    echo \"Inside loop :$b\"\n",
    "  done\n",
    "done"
   ]
  },
  {
   "cell_type": "code",
   "execution_count": 9,
   "metadata": {},
   "outputs": [
    {
     "name": "stdout",
     "output_type": "stream",
     "text": [
      "Outer loop: 10\n",
      "  Inner loop: 10 * 1 = 10\n",
      "  Inner loop: 10 * 2 = 20\n",
      "Outer loop: 9\n",
      "  Inner loop: 9 * 1 = 9\n",
      "  Inner loop: 9 * 2 = 18\n",
      "Outer loop: 8\n",
      "  Inner loop: 8 * 1 = 8\n",
      "  Inner loop: 8 * 2 = 16\n",
      "Outer loop: 7\n",
      "  Inner loop: 7 * 1 = 7\n",
      "  Inner loop: 7 * 2 = 14\n",
      "Outer loop: 6\n",
      "  Inner loop: 6 * 1 = 6\n",
      "  Inner loop: 6 * 2 = 12\n",
      "Outer loop: 5\n",
      "  Inner loop: 5 * 1 = 5\n",
      "  Inner loop: 5 * 2 = 10\n",
      "Outer loop: 4\n",
      "  Inner loop: 4 * 1 = 4\n",
      "  Inner loop: 4 * 2 = 8\n",
      "Outer loop: 3\n",
      "  Inner loop: 3 * 1 = 3\n",
      "  Inner loop: 3 * 2 = 6\n",
      "Outer loop: 2\n",
      "  Inner loop: 2 * 1 = 2\n",
      "  Inner loop: 2 * 2 = 4\n",
      "Outer loop: 1\n",
      "  Inner loop: 1 * 1 = 1\n",
      "  Inner loop: 1 * 2 = 2\n",
      "Outer loop: 0\n",
      "  Inner loop: 0 * 1 = 0\n",
      "  Inner loop: 0 * 2 = 0\n"
     ]
    }
   ],
   "source": [
    "%%bash\n",
    "var1=10\n",
    " while [ $var1 -ge 0 ]\n",
    " do\n",
    "    echo \"Outer loop: $var1\"\n",
    "    for (( var2 = 1; $var2 < 3; var2++ ))\n",
    "    do\n",
    "       var3=$[ $var1 * $var2 ]\n",
    "       echo \"  Inner loop: $var1 * $var2 = $var3\"\n",
    "    done\n",
    "    var1=$[ $var1 - 1 ]\n",
    " done"
   ]
  },
  {
   "cell_type": "code",
   "execution_count": 3,
   "metadata": {},
   "outputs": [
    {
     "name": "stdout",
     "output_type": "stream",
     "text": [
      "Outer loop: 5\n",
      "  Inner loop: 5 * 1 = 5\n",
      "  Inner loop: 5 * 2 = 10\n",
      "Outer loop: 4\n",
      "  Inner loop: 4 * 1 = 4\n",
      "  Inner loop: 4 * 2 = 8\n",
      "Outer loop: 3\n",
      "  Inner loop: 3 * 1 = 3\n",
      "  Inner loop: 3 * 2 = 6\n",
      "Outer loop: 2\n",
      "  Inner loop: 2 * 1 = 2\n",
      "  Inner loop: 2 * 2 = 4\n",
      "Outer loop: 1\n",
      "  Inner loop: 1 * 1 = 1\n",
      "  Inner loop: 1 * 2 = 2\n",
      "Outer loop: 0\n",
      "  Inner loop: 0 * 1 = 0\n",
      "  Inner loop: 0 * 2 = 0\n"
     ]
    }
   ],
   "source": [
    "%%bash\n",
    "var1=5\n",
    " while [ $var1 -ge 0 ]\n",
    " do\n",
    "    echo \"Outer loop: $var1\"\n",
    "    for (( var2 = 1; $var2 < 3; var2++ ))\n",
    "    do\n",
    "       var3=$[ $var1 * $var2 ]\n",
    "       echo \"  Inner loop: $var1 * $var2 = $var3\"\n",
    "    done\n",
    "    var1=$[ $var1 - 1 ]\n",
    " done"
   ]
  },
  {
   "cell_type": "code",
   "execution_count": 11,
   "metadata": {},
   "outputs": [
    {
     "name": "stdout",
     "output_type": "stream",
     "text": [
      "Iteration numbers : 1\n",
      "Iteration numbers : 2\n",
      "Iteration numbers : 3\n",
      "Iteration numbers : 4\n"
     ]
    }
   ],
   "source": [
    "%%bash \n",
    "for var in 1 2 3 4 5 6 7 8 9\n",
    "do\n",
    "  if [ $var -eq 5 ]\n",
    "  then \n",
    "      break\n",
    " \n",
    "  fi \n",
    "  echo \"Iteration numbers : $var\"\n",
    "done"
   ]
  },
  {
   "cell_type": "code",
   "execution_count": 16,
   "metadata": {},
   "outputs": [
    {
     "name": "stdout",
     "output_type": "stream",
     "text": [
      "Outer loop: 1\n",
      "   Inner loop: 1\n",
      "   Inner loop: 2\n",
      "   Inner loop: 3\n",
      "   Inner loop: 4\n",
      "   Inner loop: 5\n",
      "   Inner loop: 6\n",
      "   Inner loop: 7\n",
      "   Inner loop: 8\n",
      "   Inner loop: 9\n",
      "   Inner loop: 10\n",
      "   Inner loop: 11\n",
      "   Inner loop: 12\n",
      "   Inner loop: 13\n",
      "   Inner loop: 14\n",
      "   Inner loop: 15\n",
      "   Inner loop: 16\n",
      "   Inner loop: 17\n",
      "   Inner loop: 18\n",
      "   Inner loop: 19\n",
      "   Inner loop: 20\n",
      "   Inner loop: 21\n",
      "   Inner loop: 22\n",
      "   Inner loop: 23\n",
      "   Inner loop: 24\n",
      "   Inner loop: 25\n",
      "   Inner loop: 26\n",
      "   Inner loop: 27\n",
      "   Inner loop: 28\n",
      "   Inner loop: 29\n",
      "   Inner loop: 30\n",
      "   Inner loop: 31\n",
      "   Inner loop: 32\n",
      "   Inner loop: 33\n",
      "   Inner loop: 34\n",
      "   Inner loop: 35\n",
      "   Inner loop: 36\n",
      "   Inner loop: 37\n",
      "   Inner loop: 38\n",
      "   Inner loop: 39\n",
      "   Inner loop: 40\n",
      "   Inner loop: 41\n",
      "   Inner loop: 42\n",
      "   Inner loop: 43\n",
      "   Inner loop: 44\n",
      "   Inner loop: 45\n",
      "   Inner loop: 46\n",
      "   Inner loop: 47\n",
      "   Inner loop: 48\n",
      "   Inner loop: 49\n",
      "   Inner loop: 50\n",
      "   Inner loop: 51\n",
      "   Inner loop: 52\n",
      "   Inner loop: 53\n",
      "   Inner loop: 54\n",
      "   Inner loop: 55\n",
      "   Inner loop: 56\n",
      "   Inner loop: 57\n",
      "   Inner loop: 58\n",
      "   Inner loop: 59\n",
      "   Inner loop: 60\n",
      "   Inner loop: 61\n",
      "   Inner loop: 62\n",
      "   Inner loop: 63\n",
      "   Inner loop: 64\n",
      "   Inner loop: 65\n",
      "   Inner loop: 66\n",
      "   Inner loop: 67\n",
      "   Inner loop: 68\n",
      "   Inner loop: 69\n",
      "   Inner loop: 70\n",
      "   Inner loop: 71\n",
      "   Inner loop: 72\n",
      "   Inner loop: 73\n",
      "   Inner loop: 74\n",
      "   Inner loop: 75\n",
      "   Inner loop: 76\n",
      "   Inner loop: 77\n",
      "   Inner loop: 78\n",
      "   Inner loop: 79\n",
      "   Inner loop: 80\n",
      "   Inner loop: 81\n",
      "   Inner loop: 82\n",
      "   Inner loop: 83\n",
      "   Inner loop: 84\n",
      "   Inner loop: 85\n",
      "   Inner loop: 86\n",
      "   Inner loop: 87\n",
      "   Inner loop: 88\n",
      "   Inner loop: 89\n",
      "   Inner loop: 90\n"
     ]
    }
   ],
   "source": [
    "%%bash\n",
    "for (( a = 1; a < 4; a++ ))\n",
    " do\n",
    "    echo \"Outer loop: $a\"\n",
    "    for (( b = 1; b < 100; b++ ))\n",
    "    do\n",
    "       if [ $b -gt 90 ]\n",
    "       then\n",
    "          break 2\n",
    "       fi\n",
    "       echo \"   Inner loop: $b\"\n",
    "    done\n",
    " done"
   ]
  },
  {
   "cell_type": "code",
   "execution_count": 17,
   "metadata": {},
   "outputs": [
    {
     "name": "stdout",
     "output_type": "stream",
     "text": [
      "Outer loop: 1\n",
      "   Inner loop: 1\n",
      "   Inner loop: 2\n",
      "   Inner loop: 3\n",
      "   Inner loop: 4\n"
     ]
    }
   ],
   "source": [
    "%%bash\n",
    "for (( a = 1; a < 4; a++ ))\n",
    " do\n",
    "    echo \"Outer loop: $a\"\n",
    "    for (( b = 1; b < 100; b++ ))\n",
    "    do\n",
    "       if [ $b -gt 4 ]\n",
    "       then\n",
    "          break 2\n",
    "       fi\n",
    "       echo \"   Inner loop: $b\"\n",
    "    done\n",
    " done"
   ]
  },
  {
   "cell_type": "code",
   "execution_count": 25,
   "metadata": {},
   "outputs": [
    {
     "name": "stdout",
     "output_type": "stream",
     "text": [
      "/home/dopadm/$.txt is a file\n",
      "/home/dopadm/%.txt is a file\n",
      "/home/dopadm/Create_Table.py is a file\n",
      "/home/dopadm/Devops Toolchain Diagram.png:Zone.Identifier is a file\n",
      "/home/dopadm/TMP is a directory\n",
      "/home/dopadm/a.sh is a file\n",
      "/home/dopadm/a.txt is a file\n",
      "/home/dopadm/a.txt.bkp is a file\n",
      "/home/dopadm/abc is a directory\n",
      "/home/dopadm/abc.txt is a file\n",
      "/home/dopadm/abcd.txt is a file\n",
      "/home/dopadm/abcde.log is a file\n",
      "/home/dopadm/about_cmd.txt is a file\n",
      "/home/dopadm/age.txt is a file\n",
      "/home/dopadm/anand-hardlink.txt is a file\n",
      "/home/dopadm/anand-symlink.txt is a file\n",
      "/home/dopadm/anandk.txt is a file\n",
      "/home/dopadm/appa.txt is a file\n",
      "/home/dopadm/arus-devops is a directory\n",
      "/home/dopadm/arusgitFolder is a directory\n",
      "/home/dopadm/b.sh is a file\n",
      "/home/dopadm/b.txt is a file\n",
      "/home/dopadm/c.txt is a file\n",
      "/home/dopadm/createTableDB.py is a file\n",
      "/home/dopadm/d.txt is a file\n",
      "/home/dopadm/danger.txt is a file\n",
      "/home/dopadm/dcef.lst is a file\n",
      "/home/dopadm/error.txt is a file\n",
      "/home/dopadm/error1.txt is a file\n",
      "/home/dopadm/file_comp is a directory\n",
      "/home/dopadm/git is a directory\n",
      "/home/dopadm/githubarus is a directory\n",
      "/home/dopadm/image is a directory\n",
      "/home/dopadm/job.py is a file\n",
      "/home/dopadm/l_fie.lst is a file\n",
      "/home/dopadm/lin.txt is a file\n",
      "/home/dopadm/linux.txt is a file\n",
      "/home/dopadm/list.py is a file\n",
      "/home/dopadm/list.sh is a file\n",
      "/home/dopadm/ls is a file\n",
      "/home/dopadm/m.txt is a file\n",
      "/home/dopadm/one.txt is a file\n",
      "/home/dopadm/out.txt is a file\n",
      "/home/dopadm/out1.txt is a file\n",
      "/home/dopadm/output.txt is a file\n",
      "/home/dopadm/practice is a directory\n",
      "/home/dopadm/pragh.txt is a file\n",
      "/home/dopadm/prg.txt is a file\n",
      "/home/dopadm/pythonBulid.py is a file\n",
      "/home/dopadm/s.txt is a file\n",
      "/home/dopadm/shell is a directory\n",
      "/home/dopadm/shell.ipynb is a file\n",
      "/home/dopadm/son.txt is a file\n",
      "/home/dopadm/suraj.py is a file\n",
      "/home/dopadm/t.txt is a file\n",
      "/home/dopadm/tak.txt is a file\n",
      "/home/dopadm/temp-plot.html is a file\n",
      "/home/dopadm/test.py is a file\n",
      "/home/dopadm/test.sh is a file\n"
     ]
    }
   ],
   "source": [
    "%%bash\n",
    "for file in /home/dopadm/*\n",
    "do\n",
    "    if [ -d \"$file\" ]\n",
    "    then\n",
    "       echo \"$file is a directory\"\n",
    "    elif [ -f \"$file\" ]\n",
    "    then\n",
    "       echo \"$file is a file\"\n",
    "    fi\n",
    "done >out.txt\n",
    "cat out.txt\n"
   ]
  },
  {
   "cell_type": "code",
   "execution_count": 32,
   "metadata": {},
   "outputs": [
    {
     "name": "stdout",
     "output_type": "stream",
     "text": [
      "Hello raavi\n"
     ]
    }
   ],
   "source": [
    "%%bash\n",
    "echo \"Hello raavi\""
   ]
  },
  {
   "cell_type": "code",
   "execution_count": 35,
   "metadata": {},
   "outputs": [
    {
     "name": "stdout",
     "output_type": "stream",
     "text": [
      "/home/dopadm\n"
     ]
    }
   ],
   "source": [
    "%%bash \n",
    "pwd"
   ]
  },
  {
   "cell_type": "code",
   "execution_count": 36,
   "metadata": {},
   "outputs": [
    {
     "name": "stdout",
     "output_type": "stream",
     "text": [
      "/home/dopadm/$.txt:\n",
      "/home/dopadm/%.txt:\n",
      "/home/dopadm/Create_Table.py:\n",
      "/home/dopadm/Devops Toolchain Diagram.png:Zone.Identifier:\n",
      "/home/dopadm/TMP:\n",
      "   /home/dopadm/TMP/basic.sh.bkp\n",
      "/home/dopadm/a.sh:\n",
      "/home/dopadm/a.txt:\n",
      "/home/dopadm/a.txt.bkp:\n",
      "/home/dopadm/abc:\n",
      "   /home/dopadm/abc/f1\n",
      "/home/dopadm/abc.txt:\n",
      "/home/dopadm/abcd.txt:\n",
      "/home/dopadm/abcde.log:\n",
      "/home/dopadm/about_cmd.txt:\n",
      "/home/dopadm/age.txt:\n",
      "/home/dopadm/anand-hardlink.txt:\n",
      "/home/dopadm/anand-symlink.txt:\n",
      "/home/dopadm/anandk.txt:\n",
      "/home/dopadm/appa.txt:\n",
      "/home/dopadm/arus-devops:\n",
      "   /home/dopadm/arus-devops/python-script-problems\n",
      "   /home/dopadm/arus-devops/shell-script-problems\n",
      "/home/dopadm/arusgitFolder:\n",
      "/home/dopadm/b.sh:\n",
      "/home/dopadm/b.txt:\n",
      "/home/dopadm/c.txt:\n",
      "/home/dopadm/createTableDB.py:\n",
      "/home/dopadm/d.txt:\n",
      "/home/dopadm/danger.txt:\n",
      "/home/dopadm/dcef.lst:\n",
      "/home/dopadm/error.txt:\n",
      "/home/dopadm/error1.txt:\n",
      "/home/dopadm/file_comp:\n",
      "   /home/dopadm/file_comp/kk\n",
      "/home/dopadm/git:\n",
      "/home/dopadm/githubarus:\n",
      "   /home/dopadm/githubarus/shell-scripting\n",
      "/home/dopadm/image:\n",
      "/home/dopadm/job.py:\n",
      "/home/dopadm/l_fie.lst:\n",
      "/home/dopadm/lin.txt:\n",
      "/home/dopadm/linux.txt:\n",
      "/home/dopadm/list.py:\n",
      "/home/dopadm/list.sh:\n",
      "/home/dopadm/ls:\n",
      "/home/dopadm/m.txt:\n",
      "/home/dopadm/one.txt:\n",
      "/home/dopadm/out.txt:\n",
      "/home/dopadm/out1.txt:\n",
      "/home/dopadm/output.txt:\n",
      "/home/dopadm/practice:\n",
      "   /home/dopadm/practice/Terraform\n",
      "   /home/dopadm/practice/arusinfo\n",
      "   /home/dopadm/practice/bascic1.sh\n",
      "   /home/dopadm/practice/bin.sh\n",
      "   /home/dopadm/practice/first.sh\n",
      "   /home/dopadm/practice/fou.sh\n",
      "   /home/dopadm/practice/four.sh\n",
      "   /home/dopadm/practice/se.sh\n",
      "   /home/dopadm/practice/second.sh\n",
      "   /home/dopadm/practice/thi.sh\n",
      "   /home/dopadm/practice/thrid.sh\n",
      "/home/dopadm/pragh.txt:\n",
      "/home/dopadm/prg.txt:\n",
      "/home/dopadm/pythonBulid.py:\n",
      "/home/dopadm/s.txt:\n",
      "/home/dopadm/shell:\n",
      "   /home/dopadm/shell/basic.sh\n",
      "   /home/dopadm/shell/simple.sh\n",
      "/home/dopadm/shell.ipynb:\n",
      "/home/dopadm/son.txt:\n",
      "/home/dopadm/suraj.py:\n",
      "/home/dopadm/t.txt:\n",
      "/home/dopadm/tak.txt:\n",
      "/home/dopadm/temp-plot.html:\n",
      "/home/dopadm/test.py:\n",
      "/home/dopadm/test.sh:\n"
     ]
    },
    {
     "name": "stderr",
     "output_type": "stream",
     "text": [
      "bash: line 8: [: /home/dopadm/image/wp7848262-devops-wallpapers.png: binary operator expected\n"
     ]
    }
   ],
   "source": [
    "%%bash \n",
    " IFS=:\n",
    " PATH=/home/dopadm/*\n",
    " for folder in $PATH\n",
    " do\n",
    "   echo \"$folder:\"\n",
    "   for file in $folder/*\n",
    "   do\n",
    "      if [ -x $file ]\n",
    "      then\n",
    "         echo \"   $file\"\n",
    "      fi\n",
    "   done\n",
    " done\n"
   ]
  },
  {
   "cell_type": "code",
   "execution_count": 62,
   "metadata": {},
   "outputs": [
    {
     "name": "stderr",
     "output_type": "stream",
     "text": [
      "your 131072x1 screen size is bogus. expect trouble\n"
     ]
    },
    {
     "name": "stdout",
     "output_type": "stream",
     "text": [
      "UID          PID    PPID  C STIME TTY          TIME CMD\n",
      "root           1       0  0 14:49 ?        00:00:01 /sbin/init\n",
      "root           2       1  0 14:49 ?        00:00:00 /init\n",
      "root           7       2  0 14:49 ?        00:00:00 plan9 --control-socket 6 --log-level 4 --server-fd 7 --pipe-fd 9 --log-truncate\n",
      "root          61       1  0 14:49 ?        00:00:00 /usr/lib/systemd/systemd-journald\n",
      "root         103       1  0 14:49 ?        00:00:00 /usr/lib/systemd/systemd-udevd\n",
      "root         115       1  0 14:49 ?        00:00:00 snapfuse /var/lib/snapd/snaps/core20_2434.snap /snap/core20/2434 -o ro,nodev,allow_other,suid\n",
      "root         117       1  0 14:49 ?        00:00:00 snapfuse /var/lib/snapd/snaps/viu-image-viewer_1.snap /snap/viu-image-viewer/1 -o ro,nodev,allow_other,suid\n",
      "root         120       1  0 14:49 ?        00:00:02 snapfuse /var/lib/snapd/snaps/snapd_23545.snap /snap/snapd/23545 -o ro,nodev,allow_other,suid\n",
      "systemd+     178       1  0 14:49 ?        00:00:00 /usr/lib/systemd/systemd-resolved\n",
      "systemd+     182       1  0 14:49 ?        00:00:00 /usr/lib/systemd/systemd-timesyncd\n",
      "root         196       1  0 14:49 ?        00:00:00 /usr/sbin/cron -f -P\n",
      "message+     197       1  0 14:49 ?        00:00:00 @dbus-daemon --system --address=systemd: --nofork --nopidfile --systemd-activation --syslog-only\n",
      "jenkins      200       1  1 14:49 ?        00:01:43 /usr/bin/java -Djava.awt.headless=true -jar /usr/share/java/jenkins.war --webroot=/var/cache/jenkins/war --httpPort=8080\n",
      "root         209       1  0 14:49 ?        00:00:01 /usr/lib/snapd/snapd\n",
      "root         210       1  0 14:49 ?        00:00:00 /usr/lib/systemd/systemd-logind\n",
      "root         213       1  0 14:49 ?        00:00:00 /usr/libexec/wsl-pro-service -vv\n",
      "syslog       232       1  0 14:49 ?        00:00:00 /usr/sbin/rsyslogd -n -iNONE\n",
      "root         238       1  0 14:49 hvc0     00:00:00 /sbin/agetty -o -p -- \\u --noclear --keep-baud - 115200,38400,9600 vt220\n",
      "root         284       1  0 14:49 tty1     00:00:00 /sbin/agetty -o -p -- \\u --noclear - linux\n",
      "root         287       1  0 14:49 ?        00:00:07 /usr/bin/containerd\n",
      "root         293       1  0 14:49 ?        00:00:00 /usr/bin/python3 /usr/share/unattended-upgrades/unattended-upgrade-shutdown --wait-for-signal\n",
      "mysql        370       1  1 14:49 ?        00:01:21 /usr/sbin/mysqld\n",
      "root         383       1  0 14:49 ?        00:00:02 /usr/bin/dockerd -H fd:// --containerd=/run/containerd/containerd.sock\n",
      "root         874       2  0 14:49 pts/1    00:00:00 /bin/login -f\n",
      "root         893       2  0 14:49 ?        00:00:00 /init\n",
      "root         894     893  0 14:49 ?        00:00:00 /init\n",
      "dopadm       895     894  0 14:49 pts/0    00:00:00 sh -c \"$VSCODE_WSL_EXT_LOCATION/scripts/wslServer.sh\" cd4ee3b1c348a13bafd8f9ad8060705f6d4b9cba stable code-server .vscode-server --host=127.0.0.1 --port=0 --connection-token=1414859791-709145589-3298576164-1061661589 --use-host-proxy --without-browser-env-var --disable-websocket-compression --accept-server-license-terms --telemetry-level=all\n",
      "dopadm       896     895  0 14:49 pts/0    00:00:00 sh /mnt/c/Users/Dell/.vscode/extensions/ms-vscode-remote.remote-wsl-0.88.5/scripts/wslServer.sh cd4ee3b1c348a13bafd8f9ad8060705f6d4b9cba stable code-server .vscode-server --host=127.0.0.1 --port=0 --connection-token=1414859791-709145589-3298576164-1061661589 --use-host-proxy --without-browser-env-var --disable-websocket-compression --accept-server-license-terms --telemetry-level=all\n",
      "dopadm       901     896  0 14:49 pts/0    00:00:00 sh /home/dopadm/.vscode-server/bin/cd4ee3b1c348a13bafd8f9ad8060705f6d4b9cba/bin/code-server --host=127.0.0.1 --port=0 --connection-token=1414859791-709145589-3298576164-1061661589 --use-host-proxy --without-browser-env-var --disable-websocket-compression --accept-server-license-terms --telemetry-level=all\n",
      "dopadm       905     901  0 14:49 pts/0    00:00:40 /home/dopadm/.vscode-server/bin/cd4ee3b1c348a13bafd8f9ad8060705f6d4b9cba/node /home/dopadm/.vscode-server/bin/cd4ee3b1c348a13bafd8f9ad8060705f6d4b9cba/out/server-main.js --host=127.0.0.1 --port=0 --connection-token=1414859791-709145589-3298576164-1061661589 --use-host-proxy --without-browser-env-var --disable-websocket-compression --accept-server-license-terms --telemetry-level=all\n",
      "dopadm       938       1  0 14:49 ?        00:00:00 /usr/lib/systemd/systemd --user\n",
      "dopadm       939     938  0 14:49 ?        00:00:00 (sd-pam)\n",
      "dopadm       956     874  0 14:49 pts/1    00:00:00 -bash\n",
      "root         970       2  0 14:49 ?        00:00:00 /init\n",
      "root         972     970  0 14:49 ?        00:00:00 /init\n",
      "dopadm       977     972  0 14:49 pts/2    00:00:02 /home/dopadm/.vscode-server/bin/cd4ee3b1c348a13bafd8f9ad8060705f6d4b9cba/node -e const net = require('net'); process.stdin.pause(); const client = net.createConnection({ host: '127.0.0.1', port: 46525 }, () => { client.pipe(process.stdout); process.stdin.pipe(client); }); client.on('close', function (hadError) { console.error(hadError ? 'Remote close with error' : 'Remote close'); process.exit(hadError ? 1 : 0); }); client.on('error', function (err) { process.stderr.write(err && (err.stack || err.message) || String(err)); });\n",
      "dopadm       984     905  0 14:49 pts/0    00:00:16 /home/dopadm/.vscode-server/bin/cd4ee3b1c348a13bafd8f9ad8060705f6d4b9cba/node /home/dopadm/.vscode-server/bin/cd4ee3b1c348a13bafd8f9ad8060705f6d4b9cba/out/bootstrap-fork --type=ptyHost --logsPath /home/dopadm/.vscode-server/data/logs/20250207T144938\n",
      "root         993       2  0 14:49 ?        00:00:00 /init\n",
      "root         996     993  0 14:49 ?        00:00:15 /init\n",
      "dopadm       999     996  0 14:49 pts/3    00:00:40 /home/dopadm/.vscode-server/bin/cd4ee3b1c348a13bafd8f9ad8060705f6d4b9cba/node -e const net = require('net'); process.stdin.pause(); const client = net.createConnection({ host: '127.0.0.1', port: 46525 }, () => { client.pipe(process.stdout); process.stdin.pipe(client); }); client.on('close', function (hadError) { console.error(hadError ? 'Remote close with error' : 'Remote close'); process.exit(hadError ? 1 : 0); }); client.on('error', function (err) { process.stderr.write(err && (err.stack || err.message) || String(err)); });\n",
      "dopadm      1026     905  0 14:49 pts/0    00:00:14 /home/dopadm/.vscode-server/bin/cd4ee3b1c348a13bafd8f9ad8060705f6d4b9cba/node /home/dopadm/.vscode-server/bin/cd4ee3b1c348a13bafd8f9ad8060705f6d4b9cba/out/bootstrap-fork --type=fileWatcher\n",
      "dopadm      1039     905  7 14:49 pts/0    00:10:26 /home/dopadm/.vscode-server/bin/cd4ee3b1c348a13bafd8f9ad8060705f6d4b9cba/node --dns-result-order=ipv4first /home/dopadm/.vscode-server/bin/cd4ee3b1c348a13bafd8f9ad8060705f6d4b9cba/out/bootstrap-fork --type=extensionHost --transformURIs --useHostProxy=true\n",
      "dopadm      1246     984  0 14:49 pts/10   00:00:00 /bin/bash --init-file /home/dopadm/.vscode-server/bin/cd4ee3b1c348a13bafd8f9ad8060705f6d4b9cba/out/vs/workbench/contrib/terminal/common/scripts/shellIntegration-bash.sh\n",
      "dopadm      1340     984  0 14:49 pts/11   00:00:00 /bin/bash --init-file /home/dopadm/.vscode-server/bin/cd4ee3b1c348a13bafd8f9ad8060705f6d4b9cba/out/vs/workbench/contrib/terminal/common/scripts/shellIntegration-bash.sh\n",
      "dopadm      1399    1039  3 14:49 pts/0    00:04:20 /home/dopadm/.vscode-server/bin/cd4ee3b1c348a13bafd8f9ad8060705f6d4b9cba/node /home/dopadm/.vscode-server/extensions/ms-python.vscode-pylance-2024.12.1/dist/server.bundle.js --cancellationReceive=file:8a69ddb8c7ad47cac56c3a6819f6e177fd76bdd643 --node-ipc --clientProcessId=1039\n",
      "dopadm      1517    1039  0 14:49 pts/0    00:00:01 /home/dopadm/.vscode-server/bin/cd4ee3b1c348a13bafd8f9ad8060705f6d4b9cba/node /home/dopadm/.vscode-server/extensions/github.vscode-github-actions-0.27.1/dist/server-node.js --node-ipc --clientProcessId=1039\n",
      "dopadm      1811    1039  0 14:51 pts/0    00:00:16 /home/dopadm/.venv/bin/python /home/dopadm/.vscode-server/extensions/ms-python.isort-2023.10.1/bundled/tool/lsp_server.py\n",
      "dopadm      3015    1039  0 14:56 pts/0    00:00:01 /home/dopadm/.vscode-server/bin/cd4ee3b1c348a13bafd8f9ad8060705f6d4b9cba/node /home/dopadm/.vscode-server/bin/cd4ee3b1c348a13bafd8f9ad8060705f6d4b9cba/extensions/json-language-features/server/dist/node/jsonServerMain --node-ipc --clientProcessId=1039\n",
      "dopadm     18159    1039  2 16:11 pts/0    00:01:07 /home/dopadm/.venv/bin/python -m ipykernel_launcher --f=/home/dopadm/.local/share/jupyter/runtime/kernel-v35e441f594923b11ab127a08340cb6e7e698b23d8.json\n",
      "dopadm     24620   18159  0 16:44 pts/0    00:00:00 bash\n",
      "root       24621   24620  0 16:44 pts/0    00:00:00 sudo su jenkins\n",
      "dopadm     24674   18159  0 16:44 pts/0    00:00:00 bash\n",
      "root       24675   24674  0 16:44 pts/0    00:00:00 sudo su\n",
      "dopadm     28028   18159  0 17:03 pts/0    00:00:00 bash\n",
      "dopadm     28029   28028  0 17:03 pts/0    00:00:00 ps -ef\n"
     ]
    }
   ],
   "source": [
    "%%bash \n",
    "ps -ef"
   ]
  },
  {
   "cell_type": "code",
   "execution_count": 64,
   "metadata": {},
   "outputs": [
    {
     "name": "stderr",
     "output_type": "stream",
     "text": [
      "your 131072x1 screen size is bogus. expect trouble\n"
     ]
    },
    {
     "name": "stdout",
     "output_type": "stream",
     "text": [
      "    PID TTY          TIME CMD\n",
      "    895 pts/0    00:00:00 sh\n",
      "    896 pts/0    00:00:00 sh\n",
      "    901 pts/0    00:00:00 sh\n",
      "    905 pts/0    00:00:40 node\n",
      "    984 pts/0    00:00:17 node\n",
      "   1026 pts/0    00:00:14 node\n",
      "   1039 pts/0    00:10:38 node\n",
      "   1399 pts/0    00:04:22 node\n",
      "   1517 pts/0    00:00:01 node\n",
      "   1811 pts/0    00:00:16 python\n",
      "   3015 pts/0    00:00:01 node\n",
      "  18159 pts/0    00:01:08 python\n",
      "  24620 pts/0    00:00:00 bash\n",
      "  24674 pts/0    00:00:00 bash\n",
      "  28881 pts/0    00:00:00 bash\n",
      "  28882 pts/0    00:00:00 ps\n"
     ]
    }
   ],
   "source": [
    "%%bash \n",
    "ps "
   ]
  },
  {
   "cell_type": "code",
   "execution_count": 4,
   "metadata": {},
   "outputs": [
    {
     "name": "stderr",
     "output_type": "stream",
     "text": [
      "your 131072x1 screen size is bogus. expect trouble\n",
      "your 131072x1 screen size is bogus. expect trouble\n"
     ]
    },
    {
     "name": "stdout",
     "output_type": "stream",
     "text": [
      "USER         PID %CPU %MEM    VSZ   RSS TTY      STAT START   TIME COMMAND\n",
      "dopadm       853  0.0  0.0   6312  5500 pts/0    Ss+  17:13   0:00 -bash\n",
      "dopadm       932  0.0  0.0   6192  5360 pts/1    S+   17:13   0:00 -bash\n",
      "dopadm      1018  0.0  0.0   2800  1156 pts/2    Ss+  17:14   0:00 sh -c \"$VSCODE_WSL_EXT_LOCATION/scripts/wslServer.sh\" 33fc5a94a3f99ebe7087e8fe79fbe1d37a251016 stable code-server .vscode-server --host=127.0.0.1 --port=0 --connection-token=2549173128-3902478003-129309975-646914968 --use-host-proxy --without-browser-env-var --disable-websocket-compression --accept-server-license-terms --telemetry-level=all\n",
      "dopadm      1025  0.0  0.0   2800  1088 pts/2    S+   17:14   0:00 sh /mnt/c/Users/Dell/.vscode/extensions/ms-vscode-remote.remote-wsl-0.88.5/scripts/wslServer.sh 33fc5a94a3f99ebe7087e8fe79fbe1d37a251016 stable code-server .vscode-server --host=127.0.0.1 --port=0 --connection-token=2549173128-3902478003-129309975-646914968 --use-host-proxy --without-browser-env-var --disable-websocket-compression --accept-server-license-terms --telemetry-level=all\n",
      "dopadm      1068  0.0  0.0   2800  1064 pts/2    S+   17:15   0:00 sh /home/dopadm/.vscode-server/bin/33fc5a94a3f99ebe7087e8fe79fbe1d37a251016/bin/code-server --host=127.0.0.1 --port=0 --connection-token=2549173128-3902478003-129309975-646914968 --use-host-proxy --without-browser-env-var --disable-websocket-compression --accept-server-license-terms --telemetry-level=all\n",
      "dopadm      1072  0.5  1.2 11812964 102436 pts/2 Sl+  17:15   0:10 /home/dopadm/.vscode-server/bin/33fc5a94a3f99ebe7087e8fe79fbe1d37a251016/node /home/dopadm/.vscode-server/bin/33fc5a94a3f99ebe7087e8fe79fbe1d37a251016/out/server-main.js --host=127.0.0.1 --port=0 --connection-token=2549173128-3902478003-129309975-646914968 --use-host-proxy --without-browser-env-var --disable-websocket-compression --accept-server-license-terms --telemetry-level=all\n",
      "dopadm      1089  0.0  0.6 999000 55908 pts/3    Ssl+ 17:15   0:00 /home/dopadm/.vscode-server/bin/33fc5a94a3f99ebe7087e8fe79fbe1d37a251016/node -e const net = require('net'); process.stdin.pause(); const client = net.createConnection({ host: '127.0.0.1', port: 37691 }, () => { client.pipe(process.stdout); process.stdin.pipe(client); }); client.on('close', function (hadError) { console.error(hadError ? 'Remote close with error' : 'Remote close'); process.exit(hadError ? 1 : 0); }); client.on('error', function (err) { process.stderr.write(err && (err.stack || err.message) || String(err)); });\n",
      "dopadm      1096  0.2  0.8 11618792 69308 pts/2  Sl+  17:15   0:04 /home/dopadm/.vscode-server/bin/33fc5a94a3f99ebe7087e8fe79fbe1d37a251016/node /home/dopadm/.vscode-server/bin/33fc5a94a3f99ebe7087e8fe79fbe1d37a251016/out/bootstrap-fork --type=ptyHost --logsPath /home/dopadm/.vscode-server/data/logs/20250207T171541\n",
      "dopadm      1111  0.1  0.8 1012404 69944 pts/4   Ssl+ 17:15   0:01 /home/dopadm/.vscode-server/bin/33fc5a94a3f99ebe7087e8fe79fbe1d37a251016/node -e const net = require('net'); process.stdin.pause(); const client = net.createConnection({ host: '127.0.0.1', port: 37691 }, () => { client.pipe(process.stdout); process.stdin.pipe(client); }); client.on('close', function (hadError) { console.error(hadError ? 'Remote close with error' : 'Remote close'); process.exit(hadError ? 1 : 0); }); client.on('error', function (err) { process.stderr.write(err && (err.stack || err.message) || String(err)); });\n",
      "dopadm      1128  1.0  1.1 11792144 90820 pts/2  Sl+  17:15   0:18 /home/dopadm/.vscode-server/bin/33fc5a94a3f99ebe7087e8fe79fbe1d37a251016/node /home/dopadm/.vscode-server/bin/33fc5a94a3f99ebe7087e8fe79fbe1d37a251016/out/bootstrap-fork --type=fileWatcher\n",
      "dopadm      1149  5.4 10.8 87772228 871684 pts/2 Rl+  17:15   1:38 /home/dopadm/.vscode-server/bin/33fc5a94a3f99ebe7087e8fe79fbe1d37a251016/node --dns-result-order=ipv4first /home/dopadm/.vscode-server/bin/33fc5a94a3f99ebe7087e8fe79fbe1d37a251016/out/bootstrap-fork --type=extensionHost --transformURIs --useHostProxy=true\n",
      "dopadm      1241  0.0  0.0   6312  5544 pts/6    Ss+  17:15   0:00 /bin/bash --init-file /home/dopadm/.vscode-server/bin/33fc5a94a3f99ebe7087e8fe79fbe1d37a251016/out/vs/workbench/contrib/terminal/common/scripts/shellIntegration-bash.sh\n",
      "dopadm      1311  0.1  0.5 201768 46664 pts/2    Sl+  17:15   0:02 /home/dopadm/.venv/bin/python /home/dopadm/.vscode-server/extensions/ms-python.isort-2023.10.1/bundled/tool/lsp_server.py\n",
      "dopadm      1335  1.6  4.8 12410308 386976 pts/2 Sl+  17:15   0:29 /home/dopadm/.vscode-server/bin/33fc5a94a3f99ebe7087e8fe79fbe1d37a251016/node /home/dopadm/.vscode-server/extensions/ms-python.vscode-pylance-2025.2.1/dist/server.bundle.js --cancellationReceive=file:bc7ef5f6a0477ba462ec1dd584b6a09d9e325bbae2 --node-ipc --clientProcessId=1149\n",
      "dopadm      1369  0.1  0.8 894704 67552 pts/2    Sl+  17:15   0:02 /home/dopadm/.venv/bin/python -m ipykernel_launcher --f=/home/dopadm/.local/share/jupyter/runtime/kernel-v3c6662bafa7dabed167315b06a1a98ba784ce060a.json\n",
      "dopadm      1373  0.0  0.0   6312  5560 pts/8    Ss+  17:15   0:00 /bin/bash --init-file /home/dopadm/.vscode-server/bin/33fc5a94a3f99ebe7087e8fe79fbe1d37a251016/out/vs/workbench/contrib/terminal/common/scripts/shellIntegration-bash.sh\n",
      "dopadm      1639  0.0  1.0 1025504 84480 pts/2   Sl+  17:16   0:00 /home/dopadm/.vscode-server/bin/33fc5a94a3f99ebe7087e8fe79fbe1d37a251016/node /home/dopadm/.vscode-server/extensions/github.vscode-github-actions-0.27.1/dist/server-node.js --node-ipc --clientProcessId=1149\n",
      "dopadm      7805  0.0  0.0   4756  3304 pts/2    S+   17:45   0:00 bash\n",
      "dopadm      7806  0.0  0.0   8336  4340 pts/2    R+   17:45   0:00 ps -u\n"
     ]
    }
   ],
   "source": [
    "%%bash\n",
    "ps -u\n"
   ]
  },
  {
   "cell_type": "code",
   "execution_count": 8,
   "metadata": {},
   "outputs": [
    {
     "name": "stdout",
     "output_type": "stream",
     "text": [
      "The factorial of  is 6402373705728000\n"
     ]
    }
   ],
   "source": [
    "%%bash\n",
    "\n",
    "factorial=1\n",
    "for ((a = 1; a <= 18; a++))\n",
    "do \n",
    "  factorial=$(( factorial * a ))\n",
    "done\n",
    "\n",
    "echo \"The factorial of $input is $factorial\"\n",
    "\n"
   ]
  },
  {
   "cell_type": "code",
   "execution_count": 31,
   "metadata": {},
   "outputs": [
    {
     "name": "stdout",
     "output_type": "stream",
     "text": [
      "sum 30\n",
      "product 200\n",
      "x is less than y and greater than 5\n",
      "x incremented 11\n"
     ]
    }
   ],
   "source": [
    "%%bash\n",
    "x=10\n",
    "y=20\n",
    "\n",
    "sum=$((x + y))\n",
    "prod=$((x * y))\n",
    "\n",
    "echo \"sum $sum\"\n",
    "echo \"product $prod\"\n",
    "\n",
    "if [ $x -lt $y ] && [ $x -gt 5 ]; then \n",
    "   echo \"x is less than y and greater than 5\"\n",
    "fi\n",
    "\n",
    "Y=$((x + 1))  # Remove space between `=` and `$`\n",
    "echo \"x incremented $Y\"\n"
   ]
  },
  {
   "cell_type": "markdown",
   "metadata": {},
   "source": [
    "if else and elif condition\n"
   ]
  },
  {
   "cell_type": "code",
   "execution_count": 38,
   "metadata": {
    "vscode": {
     "languageId": "shellscript"
    }
   },
   "outputs": [
    {
     "name": "stdout",
     "output_type": "stream",
     "text": [
      " positive\n"
     ]
    }
   ],
   "source": [
    "%%bash\n",
    "num=10\n",
    "if [ $num -gt 0 ]; then\n",
    "   echo \" positive\"\n",
    "elif [ $num -lt 0 ]; then\n",
    "    echo \"Negative\"\n",
    "else\n",
    "    echo \"Zero\"\n",
    "fi \n",
    "\n"
   ]
  },
  {
   "cell_type": "markdown",
   "metadata": {},
   "source": [
    "case \n"
   ]
  },
  {
   "cell_type": "code",
   "execution_count": 53,
   "metadata": {},
   "outputs": [
    {
     "name": "stdout",
     "output_type": "stream",
     "text": [
      "The product is: 1800\n"
     ]
    }
   ],
   "source": [
    "%%bash\n",
    "a=60\n",
    "b=30\n",
    "inputOp=2\n",
    "\n",
    "case ${inputOp} in\n",
    "1)\n",
    "    sum=$((a + b))\n",
    "    echo \"The sum is: $sum\"\n",
    "    ;;\n",
    "2)\n",
    "    product=$((a * b))\n",
    "    echo \"The product is: $product\"\n",
    "    ;;\n",
    "3)\n",
    "    if [ $b -eq 0 ]; then\n",
    "        echo \"Division by zero is not allowed.\"\n",
    "    else\n",
    "        div=$((a / b))\n",
    "        echo \"The quotient is: $div\"\n",
    "    fi\n",
    "    ;;\n",
    "4)\n",
    "    diff=$((a - b))\n",
    "    echo \"The difference is: $diff\"\n",
    "    ;;\n",
    "*)\n",
    "    echo \"Invalid option\"\n",
    "    ;;\n",
    "esac\n"
   ]
  },
  {
   "cell_type": "code",
   "execution_count": 1,
   "metadata": {},
   "outputs": [],
   "source": [
    "list=list(map(int,input().split()))"
   ]
  },
  {
   "cell_type": "code",
   "execution_count": 2,
   "metadata": {},
   "outputs": [
    {
     "data": {
      "text/plain": [
       "[1, 2, 3]"
      ]
     },
     "execution_count": 2,
     "metadata": {},
     "output_type": "execute_result"
    }
   ],
   "source": [
    "list"
   ]
  },
  {
   "cell_type": "code",
   "execution_count": 30,
   "metadata": {},
   "outputs": [
    {
     "name": "stdout",
     "output_type": "stream",
     "text": [
      "13 SUCCESS 1732\n",
      "12 SUCCESS 1150\n",
      "11 SUCCESS 7874\n",
      "10 SUCCESS 1118\n",
      "9 SUCCESS 1271\n",
      "8 SUCCESS 1025\n",
      "7 SUCCESS 1095\n",
      "6 SUCCESS 1149\n",
      "5 SUCCESS 4533\n",
      "4 FAILURE 968\n",
      "3 FAILURE 801\n",
      "2 FAILURE 922\n",
      "1 FAILURE 876\n",
      "13 records inserted successfully into jenkins_bulid_details_tables table.\n"
     ]
    },
    {
     "data": {
      "text/plain": [
       "<function Create_Table.insertJobDetails(db_connection, jobDetails)>"
      ]
     },
     "execution_count": 30,
     "metadata": {},
     "output_type": "execute_result"
    }
   ],
   "source": [
    "from Create_Table import insertJobDetails\n",
    "\n",
    "\n",
    "insertJobDetails"
   ]
  },
  {
   "cell_type": "code",
   "execution_count": null,
   "metadata": {},
   "outputs": [
    {
     "data": {
      "text/plain": [
       "'%(folder_url)sjob/%(short_name)s/buildWithParameters'"
      ]
     },
     "execution_count": 49,
     "metadata": {},
     "output_type": "execute_result"
    }
   ],
   "source": []
  },
  {
   "cell_type": "code",
   "execution_count": 54,
   "metadata": {},
   "outputs": [
    {
     "name": "stdout",
     "output_type": "stream",
     "text": [
      "The highest number is: 89\n"
     ]
    }
   ],
   "source": [
    "\n",
    "numbers = list(map(int, input(\"Enter three numbers: \").split()))\n",
    "\n",
    "highest_number = numbers[0]\n",
    "\n",
    "for number in numbers:\n",
    "    if number > highest_number:\n",
    "        highest_number = number\n",
    "print(\"The highest number is:\", highest_number)\n"
   ]
  },
  {
   "cell_type": "code",
   "execution_count": null,
   "metadata": {},
   "outputs": [
    {
     "name": "stdout",
     "output_type": "stream",
     "text": [
      "Number sequence - [1 2 3 4 5 6 7 8 9]\n",
      "Number sequence - [1 2 3 4 5 6 7 8 9]\n",
      "Number sequence - [3]\n",
      "Number sequence - [4 5 6 7]\n",
      "Number sequence - [4 5 6 7 8 9]\n",
      "Number sequence - [4 5 6 7]\n",
      "elelments K A B C D E K L M N\n",
      "elelments \n",
      "elelments K A B C D E K L M N\n"
     ]
    }
   ],
   "source": [
    "%%bash\n",
    "numSeq=(1 2 3 4 5 6 7 8 9)\n",
    "\n",
    "echo \"Number sequence - [${numSeq[@]}]\"\n",
    "echo \"Number sequence - [${numSeq[*]}]\"\n",
    "echo \"Number sequence - [${numSeq[2]}]\"\n",
    "echo \"Number sequence - [${numSeq[@]:3:4}]\"\n",
    "echo \"Number sequence - [${numSeq[@]:3}]\"\n",
    "echo \"Number sequence - [${numSeq[*]:3:4}]\"\n",
    "\n",
    "#array declare \n",
    "declare -a charSeq\n",
    "charSeq[1]=\"A\"\n",
    "charSeq[2]=\"B\"\n",
    "charSeq[3]=\"C\"\n",
    "charSeq[4]=\"D\"\n",
    "charSeq[5]=\"E\"\n",
    "\n",
    "charSeq+=(\"K\" \"L\" \"M\" \"N\")\n",
    "charSeq+=\"K\"\n",
    "echo \"elelments ${charSeq[@]}\"\n",
    "\n",
    "echo \"elelments ${charSeq[10]}\"\n"
   ]
  },
  {
   "cell_type": "code",
   "execution_count": null,
   "metadata": {},
   "outputs": [],
   "source": []
  }
 ],
 "metadata": {
  "kernelspec": {
   "display_name": ".venv",
   "language": "python",
   "name": "python3"
  },
  "language_info": {
   "codemirror_mode": {
    "name": "ipython",
    "version": 3
   },
   "file_extension": ".py",
   "mimetype": "text/x-python",
   "name": "python",
   "nbconvert_exporter": "python",
   "pygments_lexer": "ipython3",
   "version": "3.12.3"
  }
 },
 "nbformat": 4,
 "nbformat_minor": 2
}
